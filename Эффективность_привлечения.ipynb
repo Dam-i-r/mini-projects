{
 "cells": [
  {
   "cell_type": "markdown",
   "metadata": {},
   "source": [
    "Две недели назад банк запустил новый продукт. Руководитель отдела маркетинга попросил вас проанализировать эффективность привлечения пользователей в данный продукт. Ваша задача - сформулировать подход к анализу, построить понятную визуализацию и сделать выводы."
   ]
  },
  {
   "cell_type": "markdown",
   "metadata": {},
   "source": [
    "Инженер баз данных прислал вам выгрузку (data.xlsx файл находится в папке)"
   ]
  },
  {
   "cell_type": "code",
   "execution_count": 20,
   "metadata": {},
   "outputs": [],
   "source": [
    "# Описание данных:\n",
    "\n",
    "# Лист installs:\n",
    "# install_id - уникальный ID установки;\n",
    "# media_source - источник установки;\n",
    "# install_date - дата установки;\n",
    "# cost - стоимость данной установки;\n",
    "\n",
    "# Лист opened_accounts:\n",
    "# install_id - уникальный ID установки;\n",
    "# account_id - уникальный ID аккаунта, открытого после данной устанвоки (клиент не всегда открывает аккаунт после установки);\n",
    "# LTV - прогноз LTV данного аккаунта;"
   ]
  },
  {
   "cell_type": "code",
   "execution_count": 3,
   "metadata": {},
   "outputs": [],
   "source": [
    "import pandas as pd\n",
    "import seaborn as sns\n",
    "import matplotlib.pyplot as plt"
   ]
  },
  {
   "cell_type": "code",
   "execution_count": 4,
   "metadata": {},
   "outputs": [
    {
     "data": {
      "text/html": [
       "<div>\n",
       "<style scoped>\n",
       "    .dataframe tbody tr th:only-of-type {\n",
       "        vertical-align: middle;\n",
       "    }\n",
       "\n",
       "    .dataframe tbody tr th {\n",
       "        vertical-align: top;\n",
       "    }\n",
       "\n",
       "    .dataframe thead th {\n",
       "        text-align: right;\n",
       "    }\n",
       "</style>\n",
       "<table border=\"1\" class=\"dataframe\">\n",
       "  <thead>\n",
       "    <tr style=\"text-align: right;\">\n",
       "      <th></th>\n",
       "      <th>install_id</th>\n",
       "      <th>media_source</th>\n",
       "      <th>install_date</th>\n",
       "      <th>cost</th>\n",
       "    </tr>\n",
       "  </thead>\n",
       "  <tbody>\n",
       "    <tr>\n",
       "      <th>0</th>\n",
       "      <td>89704301545801</td>\n",
       "      <td>google</td>\n",
       "      <td>2021-05-10</td>\n",
       "      <td>98</td>\n",
       "    </tr>\n",
       "    <tr>\n",
       "      <th>1</th>\n",
       "      <td>86228215526136</td>\n",
       "      <td>google</td>\n",
       "      <td>2021-05-12</td>\n",
       "      <td>95</td>\n",
       "    </tr>\n",
       "    <tr>\n",
       "      <th>2</th>\n",
       "      <td>35939277698026</td>\n",
       "      <td>google</td>\n",
       "      <td>2021-05-16</td>\n",
       "      <td>107</td>\n",
       "    </tr>\n",
       "    <tr>\n",
       "      <th>3</th>\n",
       "      <td>59296978130969</td>\n",
       "      <td>google</td>\n",
       "      <td>2021-05-16</td>\n",
       "      <td>99</td>\n",
       "    </tr>\n",
       "    <tr>\n",
       "      <th>4</th>\n",
       "      <td>60864054740816</td>\n",
       "      <td>google</td>\n",
       "      <td>2021-05-16</td>\n",
       "      <td>104</td>\n",
       "    </tr>\n",
       "  </tbody>\n",
       "</table>\n",
       "</div>"
      ],
      "text/plain": [
       "       install_id media_source install_date  cost\n",
       "0  89704301545801       google   2021-05-10    98\n",
       "1  86228215526136       google   2021-05-12    95\n",
       "2  35939277698026       google   2021-05-16   107\n",
       "3  59296978130969       google   2021-05-16    99\n",
       "4  60864054740816       google   2021-05-16   104"
      ]
     },
     "execution_count": 4,
     "metadata": {},
     "output_type": "execute_result"
    }
   ],
   "source": [
    "#считываем данные\n",
    "installs = pd.read_excel('C:/Users/Дамир/Programs/case/data.xlsx', sheet_name=0)\n",
    "installs.head()"
   ]
  },
  {
   "cell_type": "code",
   "execution_count": 20,
   "metadata": {},
   "outputs": [
    {
     "data": {
      "text/html": [
       "<div>\n",
       "<style scoped>\n",
       "    .dataframe tbody tr th:only-of-type {\n",
       "        vertical-align: middle;\n",
       "    }\n",
       "\n",
       "    .dataframe tbody tr th {\n",
       "        vertical-align: top;\n",
       "    }\n",
       "\n",
       "    .dataframe thead th {\n",
       "        text-align: right;\n",
       "    }\n",
       "</style>\n",
       "<table border=\"1\" class=\"dataframe\">\n",
       "  <thead>\n",
       "    <tr style=\"text-align: right;\">\n",
       "      <th></th>\n",
       "      <th>install_id</th>\n",
       "      <th>account_id</th>\n",
       "      <th>LTV</th>\n",
       "    </tr>\n",
       "  </thead>\n",
       "  <tbody>\n",
       "    <tr>\n",
       "      <th>0</th>\n",
       "      <td>8.970430e+13</td>\n",
       "      <td>8.970430e+11</td>\n",
       "      <td>882.935401</td>\n",
       "    </tr>\n",
       "    <tr>\n",
       "      <th>1</th>\n",
       "      <td>8.622822e+13</td>\n",
       "      <td>8.622822e+11</td>\n",
       "      <td>858.935401</td>\n",
       "    </tr>\n",
       "    <tr>\n",
       "      <th>2</th>\n",
       "      <td>3.593928e+13</td>\n",
       "      <td>3.593928e+11</td>\n",
       "      <td>878.935401</td>\n",
       "    </tr>\n",
       "    <tr>\n",
       "      <th>3</th>\n",
       "      <td>5.929698e+13</td>\n",
       "      <td>5.929698e+11</td>\n",
       "      <td>875.935401</td>\n",
       "    </tr>\n",
       "    <tr>\n",
       "      <th>4</th>\n",
       "      <td>4.922540e+13</td>\n",
       "      <td>4.922540e+11</td>\n",
       "      <td>862.935401</td>\n",
       "    </tr>\n",
       "  </tbody>\n",
       "</table>\n",
       "</div>"
      ],
      "text/plain": [
       "     install_id    account_id         LTV\n",
       "0  8.970430e+13  8.970430e+11  882.935401\n",
       "1  8.622822e+13  8.622822e+11  858.935401\n",
       "2  3.593928e+13  3.593928e+11  878.935401\n",
       "3  5.929698e+13  5.929698e+11  875.935401\n",
       "4  4.922540e+13  4.922540e+11  862.935401"
      ]
     },
     "execution_count": 20,
     "metadata": {},
     "output_type": "execute_result"
    }
   ],
   "source": [
    "opened_accounts = pd.read_excel('C:/Users/Дамир/Programs/case/data.xlsx', sheet_name=1)\n",
    "opened_accounts.head()"
   ]
  },
  {
   "cell_type": "code",
   "execution_count": null,
   "metadata": {},
   "outputs": [],
   "source": [
    "#теперь проверим их"
   ]
  },
  {
   "cell_type": "code",
   "execution_count": 6,
   "metadata": {},
   "outputs": [
    {
     "data": {
      "text/plain": [
       "install_id       int64\n",
       "media_source    object\n",
       "install_date    object\n",
       "cost             int64\n",
       "dtype: object"
      ]
     },
     "execution_count": 6,
     "metadata": {},
     "output_type": "execute_result"
    }
   ],
   "source": [
    "installs.dtypes"
   ]
  },
  {
   "cell_type": "code",
   "execution_count": 7,
   "metadata": {},
   "outputs": [
    {
     "data": {
      "text/plain": [
       "install_id    float64\n",
       "account_id    float64\n",
       "LTV           float64\n",
       "dtype: object"
      ]
     },
     "execution_count": 7,
     "metadata": {},
     "output_type": "execute_result"
    }
   ],
   "source": [
    "opened_accounts.dtypes"
   ]
  },
  {
   "cell_type": "code",
   "execution_count": 24,
   "metadata": {},
   "outputs": [
    {
     "name": "stdout",
     "output_type": "stream",
     "text": [
      "install_id      0\n",
      "media_source    0\n",
      "install_date    0\n",
      "cost            0\n",
      "dtype: int64\n",
      "\n",
      "\n",
      "\n",
      "install_id    1\n",
      "account_id    1\n",
      "LTV           1\n",
      "dtype: int64\n"
     ]
    }
   ],
   "source": [
    "print(installs.isna().sum())\n",
    "print('\\n\\n')\n",
    "print(opened_accounts.isna().sum())"
   ]
  },
  {
   "cell_type": "code",
   "execution_count": 25,
   "metadata": {},
   "outputs": [],
   "source": [
    "#уберем пустую строчку\n",
    "opened_accounts = opened_accounts.dropna()"
   ]
  },
  {
   "cell_type": "code",
   "execution_count": 26,
   "metadata": {},
   "outputs": [
    {
     "name": "stdout",
     "output_type": "stream",
     "text": [
      "0\n",
      "0\n"
     ]
    }
   ],
   "source": [
    "print(installs.duplicated().sum())\n",
    "print(opened_accounts.duplicated().sum())"
   ]
  },
  {
   "cell_type": "code",
   "execution_count": 27,
   "metadata": {},
   "outputs": [
    {
     "name": "stdout",
     "output_type": "stream",
     "text": [
      "(77489, 4)\n",
      "(36769, 3)\n"
     ]
    }
   ],
   "source": [
    "#Объединим данные\n",
    "print(installs.shape)\n",
    "print(opened_accounts.shape)\n"
   ]
  },
  {
   "cell_type": "code",
   "execution_count": 29,
   "metadata": {},
   "outputs": [
    {
     "data": {
      "text/html": [
       "<div>\n",
       "<style scoped>\n",
       "    .dataframe tbody tr th:only-of-type {\n",
       "        vertical-align: middle;\n",
       "    }\n",
       "\n",
       "    .dataframe tbody tr th {\n",
       "        vertical-align: top;\n",
       "    }\n",
       "\n",
       "    .dataframe thead th {\n",
       "        text-align: right;\n",
       "    }\n",
       "</style>\n",
       "<table border=\"1\" class=\"dataframe\">\n",
       "  <thead>\n",
       "    <tr style=\"text-align: right;\">\n",
       "      <th></th>\n",
       "      <th>install_id</th>\n",
       "      <th>media_source</th>\n",
       "      <th>install_date</th>\n",
       "      <th>cost</th>\n",
       "      <th>account_id</th>\n",
       "      <th>LTV</th>\n",
       "    </tr>\n",
       "  </thead>\n",
       "  <tbody>\n",
       "    <tr>\n",
       "      <th>0</th>\n",
       "      <td>89704301545801</td>\n",
       "      <td>google</td>\n",
       "      <td>2021-05-10</td>\n",
       "      <td>98</td>\n",
       "      <td>8.970430e+11</td>\n",
       "      <td>882.935401</td>\n",
       "    </tr>\n",
       "    <tr>\n",
       "      <th>1</th>\n",
       "      <td>86228215526136</td>\n",
       "      <td>google</td>\n",
       "      <td>2021-05-12</td>\n",
       "      <td>95</td>\n",
       "      <td>8.622822e+11</td>\n",
       "      <td>858.935401</td>\n",
       "    </tr>\n",
       "    <tr>\n",
       "      <th>2</th>\n",
       "      <td>35939277698026</td>\n",
       "      <td>google</td>\n",
       "      <td>2021-05-16</td>\n",
       "      <td>107</td>\n",
       "      <td>3.593928e+11</td>\n",
       "      <td>878.935401</td>\n",
       "    </tr>\n",
       "    <tr>\n",
       "      <th>3</th>\n",
       "      <td>59296978130969</td>\n",
       "      <td>google</td>\n",
       "      <td>2021-05-16</td>\n",
       "      <td>99</td>\n",
       "      <td>5.929698e+11</td>\n",
       "      <td>875.935401</td>\n",
       "    </tr>\n",
       "    <tr>\n",
       "      <th>4</th>\n",
       "      <td>60864054740816</td>\n",
       "      <td>google</td>\n",
       "      <td>2021-05-16</td>\n",
       "      <td>104</td>\n",
       "      <td>NaN</td>\n",
       "      <td>NaN</td>\n",
       "    </tr>\n",
       "  </tbody>\n",
       "</table>\n",
       "</div>"
      ],
      "text/plain": [
       "       install_id media_source install_date  cost    account_id         LTV\n",
       "0  89704301545801       google   2021-05-10    98  8.970430e+11  882.935401\n",
       "1  86228215526136       google   2021-05-12    95  8.622822e+11  858.935401\n",
       "2  35939277698026       google   2021-05-16   107  3.593928e+11  878.935401\n",
       "3  59296978130969       google   2021-05-16    99  5.929698e+11  875.935401\n",
       "4  60864054740816       google   2021-05-16   104           NaN         NaN"
      ]
     },
     "execution_count": 29,
     "metadata": {},
     "output_type": "execute_result"
    }
   ],
   "source": [
    "both = installs.merge(opened_accounts,on='install_id', how='outer')\n",
    "both.head()"
   ]
  },
  {
   "cell_type": "code",
   "execution_count": 30,
   "metadata": {},
   "outputs": [],
   "source": [
    "#заполним нулями значения LTV для тех кто не открыл\n",
    "both.LTV.fillna(0,inplace=True)"
   ]
  },
  {
   "cell_type": "code",
   "execution_count": 33,
   "metadata": {},
   "outputs": [],
   "source": [
    "#обработаем дф для анализа\n",
    "analysis = both.groupby(['media_source','install_date'], as_index=False).agg({'cost':'sum', 'account_id':'count', 'LTV': 'sum', 'install_id':'count'})\n"
   ]
  },
  {
   "cell_type": "code",
   "execution_count": 34,
   "metadata": {},
   "outputs": [],
   "source": [
    "analysis = analysis.assign(revenue = analysis.LTV - analysis.cost, rate = analysis.account_id/analysis.install_id)"
   ]
  },
  {
   "cell_type": "code",
   "execution_count": 35,
   "metadata": {},
   "outputs": [
    {
     "data": {
      "text/html": [
       "<div>\n",
       "<style scoped>\n",
       "    .dataframe tbody tr th:only-of-type {\n",
       "        vertical-align: middle;\n",
       "    }\n",
       "\n",
       "    .dataframe tbody tr th {\n",
       "        vertical-align: top;\n",
       "    }\n",
       "\n",
       "    .dataframe thead th {\n",
       "        text-align: right;\n",
       "    }\n",
       "</style>\n",
       "<table border=\"1\" class=\"dataframe\">\n",
       "  <thead>\n",
       "    <tr style=\"text-align: right;\">\n",
       "      <th></th>\n",
       "      <th>media_source</th>\n",
       "      <th>install_date</th>\n",
       "      <th>cost</th>\n",
       "      <th>account_id</th>\n",
       "      <th>LTV</th>\n",
       "      <th>install_id</th>\n",
       "      <th>revenue</th>\n",
       "      <th>rate</th>\n",
       "    </tr>\n",
       "  </thead>\n",
       "  <tbody>\n",
       "    <tr>\n",
       "      <th>0</th>\n",
       "      <td>facebook</td>\n",
       "      <td>2021-05-10</td>\n",
       "      <td>84321</td>\n",
       "      <td>449</td>\n",
       "      <td>570249.415890</td>\n",
       "      <td>497</td>\n",
       "      <td>485928.415890</td>\n",
       "      <td>0.903421</td>\n",
       "    </tr>\n",
       "    <tr>\n",
       "      <th>1</th>\n",
       "      <td>facebook</td>\n",
       "      <td>2021-05-11</td>\n",
       "      <td>83226</td>\n",
       "      <td>436</td>\n",
       "      <td>552941.677791</td>\n",
       "      <td>490</td>\n",
       "      <td>469715.677791</td>\n",
       "      <td>0.889796</td>\n",
       "    </tr>\n",
       "    <tr>\n",
       "      <th>2</th>\n",
       "      <td>facebook</td>\n",
       "      <td>2021-05-12</td>\n",
       "      <td>91883</td>\n",
       "      <td>488</td>\n",
       "      <td>619070.630188</td>\n",
       "      <td>540</td>\n",
       "      <td>527187.630188</td>\n",
       "      <td>0.903704</td>\n",
       "    </tr>\n",
       "    <tr>\n",
       "      <th>3</th>\n",
       "      <td>facebook</td>\n",
       "      <td>2021-05-13</td>\n",
       "      <td>86199</td>\n",
       "      <td>461</td>\n",
       "      <td>585461.251059</td>\n",
       "      <td>507</td>\n",
       "      <td>499262.251059</td>\n",
       "      <td>0.909270</td>\n",
       "    </tr>\n",
       "    <tr>\n",
       "      <th>4</th>\n",
       "      <td>facebook</td>\n",
       "      <td>2021-05-14</td>\n",
       "      <td>86006</td>\n",
       "      <td>459</td>\n",
       "      <td>583398.445197</td>\n",
       "      <td>506</td>\n",
       "      <td>497392.445197</td>\n",
       "      <td>0.907115</td>\n",
       "    </tr>\n",
       "  </tbody>\n",
       "</table>\n",
       "</div>"
      ],
      "text/plain": [
       "  media_source install_date   cost  account_id            LTV  install_id  \\\n",
       "0     facebook   2021-05-10  84321         449  570249.415890         497   \n",
       "1     facebook   2021-05-11  83226         436  552941.677791         490   \n",
       "2     facebook   2021-05-12  91883         488  619070.630188         540   \n",
       "3     facebook   2021-05-13  86199         461  585461.251059         507   \n",
       "4     facebook   2021-05-14  86006         459  583398.445197         506   \n",
       "\n",
       "         revenue      rate  \n",
       "0  485928.415890  0.903421  \n",
       "1  469715.677791  0.889796  \n",
       "2  527187.630188  0.903704  \n",
       "3  499262.251059  0.909270  \n",
       "4  497392.445197  0.907115  "
      ]
     },
     "execution_count": 35,
     "metadata": {},
     "output_type": "execute_result"
    }
   ],
   "source": [
    "analysis.head() #revenue доход с установок, клиент клиентов, которые отрыли аккаунт)"
   ]
  },
  {
   "cell_type": "code",
   "execution_count": 37,
   "metadata": {},
   "outputs": [
    {
     "data": {
      "text/plain": [
       "<AxesSubplot:xlabel='install_date', ylabel='install_id'>"
      ]
     },
     "execution_count": 37,
     "metadata": {},
     "output_type": "execute_result"
    },
    {
     "data": {
      "image/png": "[encoded data removed]",
      "text/plain": [
       "<Figure size 1080x720 with 1 Axes>"
      ]
     },
     "metadata": {
      "needs_background": "light"
     },
     "output_type": "display_data"
    }
   ],
   "source": [
    "#посмотрим на уставки\n",
    "plt.figure(figsize=(15,10))\n",
    "plt.xticks(rotation=25)\n",
    "sns.lineplot(data=analysis ,x='install_date',\n",
    "    y='install_id', hue='media_source')"
   ]
  },
  {
   "cell_type": "markdown",
   "metadata": {},
   "source": [
    "Спустя неделю, компания решила больше использовать \"Тик-ток\" (через остальные источники стало немного меньше)"
   ]
  },
  {
   "cell_type": "code",
   "execution_count": 39,
   "metadata": {},
   "outputs": [
    {
     "data": {
      "text/plain": [
       "<AxesSubplot:xlabel='install_date', ylabel='rate'>"
      ]
     },
     "execution_count": 39,
     "metadata": {},
     "output_type": "execute_result"
    },
    {
     "data": {
      "image/png": "[encoded data removed]",
      "text/plain": [
       "<Figure size 1080x720 with 1 Axes>"
      ]
     },
     "metadata": {
      "needs_background": "light"
     },
     "output_type": "display_data"
    }
   ],
   "source": [
    "#посмотрим на то как из-за этого изменились доли клиентов, открывших аккаунт\n",
    "plt.figure(figsize=(15,10))\n",
    "plt.xticks(rotation=25)\n",
    "sns.lineplot(data=analysis ,x='install_date',\n",
    "    y='rate', hue='media_source')"
   ]
  },
  {
   "cell_type": "markdown",
   "metadata": {},
   "source": [
    "В целом ничего кроме Тик-тока не изменилось. Однако Через Тик-Ток клиенты стали чаще открывать аккаунт после установки"
   ]
  },
  {
   "cell_type": "code",
   "execution_count": 77,
   "metadata": {},
   "outputs": [
    {
     "data": {
      "text/plain": [
       "<AxesSubplot:xlabel='install_date', ylabel='revenue'>"
      ]
     },
     "execution_count": 77,
     "metadata": {},
     "output_type": "execute_result"
    },
    {
     "data": {
      "image/png": "[encoded data removed]",
      "text/plain": [
       "<Figure size 1080x720 with 1 Axes>"
      ]
     },
     "metadata": {
      "needs_background": "light"
     },
     "output_type": "display_data"
    }
   ],
   "source": [
    "#одного открытия мало, посмотрим как это повляло на прибыль\n",
    "plt.figure(figsize=(15,10))\n",
    "plt.xticks(rotation=25)\n",
    "sns.lineplot(data=analysis ,x='install_date',\n",
    "    y='revenue', hue='media_source')"
   ]
  },
  {
   "cell_type": "markdown",
   "metadata": {},
   "source": [
    "Как тут можно увидеть, комания сконцентрировлась на одном из самых неприбыльных направлений. \n",
    "Мало того что снижение установок, соответсвенно открытий клиентом аккаунта, на самых прибыльных площадках \n",
    "привело к колосальному снижению прибыли, так и увеличение установок Тик-Тока сделало его нерентабельным"
   ]
  },
  {
   "cell_type": "code",
   "execution_count": 50,
   "metadata": {},
   "outputs": [],
   "source": [
    "#посмотрим поподробнее на изменения Тик-Тока\n",
    "tik_tok = both.query('install_date>\"2021-05-15\" & install_date<\"2021-05-18\" & media_source == \"tik-tok\"')"
   ]
  },
  {
   "cell_type": "code",
   "execution_count": 51,
   "metadata": {},
   "outputs": [
    {
     "data": {
      "text/html": [
       "<div>\n",
       "<style scoped>\n",
       "    .dataframe tbody tr th:only-of-type {\n",
       "        vertical-align: middle;\n",
       "    }\n",
       "\n",
       "    .dataframe tbody tr th {\n",
       "        vertical-align: top;\n",
       "    }\n",
       "\n",
       "    .dataframe thead th {\n",
       "        text-align: right;\n",
       "    }\n",
       "</style>\n",
       "<table border=\"1\" class=\"dataframe\">\n",
       "  <thead>\n",
       "    <tr style=\"text-align: right;\">\n",
       "      <th></th>\n",
       "      <th>cost</th>\n",
       "      <th>LTV</th>\n",
       "      <th>account_id</th>\n",
       "      <th>install_id</th>\n",
       "    </tr>\n",
       "    <tr>\n",
       "      <th>install_date</th>\n",
       "      <th></th>\n",
       "      <th></th>\n",
       "      <th></th>\n",
       "      <th></th>\n",
       "    </tr>\n",
       "  </thead>\n",
       "  <tbody>\n",
       "    <tr>\n",
       "      <th>2021-05-16</th>\n",
       "      <td>49.920711</td>\n",
       "      <td>91.959679</td>\n",
       "      <td>353</td>\n",
       "      <td>1463</td>\n",
       "    </tr>\n",
       "    <tr>\n",
       "      <th>2021-05-17</th>\n",
       "      <td>49.869017</td>\n",
       "      <td>39.295513</td>\n",
       "      <td>1980</td>\n",
       "      <td>4680</td>\n",
       "    </tr>\n",
       "  </tbody>\n",
       "</table>\n",
       "</div>"
      ],
      "text/plain": [
       "                   cost        LTV  account_id  install_id\n",
       "install_date                                              \n",
       "2021-05-16    49.920711  91.959679         353        1463\n",
       "2021-05-17    49.869017  39.295513        1980        4680"
      ]
     },
     "execution_count": 51,
     "metadata": {},
     "output_type": "execute_result"
    }
   ],
   "source": [
    "tik_tok.groupby('install_date').agg({'cost': 'mean','LTV': 'mean', 'account_id' : 'count', 'install_id' : 'count'})"
   ]
  },
  {
   "cell_type": "markdown",
   "metadata": {},
   "source": [
    "Из таблицы видно, что большее число установок значительно увеличило число открытий аккаунта, \n",
    "но в то же время LTV упла более чем в 2 раза, что и отразилось на прибыли."
   ]
  },
  {
   "cell_type": "code",
   "execution_count": 72,
   "metadata": {},
   "outputs": [],
   "source": [
    "#посмотрим во всех группах\n",
    "all_groups = both.query('install_date>\"2021-05-15\" & install_date<\"2021-05-18\"')"
   ]
  },
  {
   "cell_type": "code",
   "execution_count": 73,
   "metadata": {},
   "outputs": [
    {
     "data": {
      "text/html": [
       "<div>\n",
       "<style scoped>\n",
       "    .dataframe tbody tr th:only-of-type {\n",
       "        vertical-align: middle;\n",
       "    }\n",
       "\n",
       "    .dataframe tbody tr th {\n",
       "        vertical-align: top;\n",
       "    }\n",
       "\n",
       "    .dataframe thead tr th {\n",
       "        text-align: left;\n",
       "    }\n",
       "\n",
       "    .dataframe thead tr:last-of-type th {\n",
       "        text-align: right;\n",
       "    }\n",
       "</style>\n",
       "<table border=\"1\" class=\"dataframe\">\n",
       "  <thead>\n",
       "    <tr>\n",
       "      <th></th>\n",
       "      <th colspan=\"2\" halign=\"left\">cost</th>\n",
       "      <th colspan=\"2\" halign=\"left\">LTV</th>\n",
       "      <th colspan=\"2\" halign=\"left\">account_id</th>\n",
       "      <th colspan=\"2\" halign=\"left\">install_id</th>\n",
       "    </tr>\n",
       "    <tr>\n",
       "      <th>install_date</th>\n",
       "      <th>2021-05-16</th>\n",
       "      <th>2021-05-17</th>\n",
       "      <th>2021-05-16</th>\n",
       "      <th>2021-05-17</th>\n",
       "      <th>2021-05-16</th>\n",
       "      <th>2021-05-17</th>\n",
       "      <th>2021-05-16</th>\n",
       "      <th>2021-05-17</th>\n",
       "    </tr>\n",
       "    <tr>\n",
       "      <th>media_source</th>\n",
       "      <th></th>\n",
       "      <th></th>\n",
       "      <th></th>\n",
       "      <th></th>\n",
       "      <th></th>\n",
       "      <th></th>\n",
       "      <th></th>\n",
       "      <th></th>\n",
       "    </tr>\n",
       "  </thead>\n",
       "  <tbody>\n",
       "    <tr>\n",
       "      <th>facebook</th>\n",
       "      <td>170.079498</td>\n",
       "      <td>169.291317</td>\n",
       "      <td>1117.646723</td>\n",
       "      <td>1138.380778</td>\n",
       "      <td>421</td>\n",
       "      <td>320</td>\n",
       "      <td>478</td>\n",
       "      <td>357</td>\n",
       "    </tr>\n",
       "    <tr>\n",
       "      <th>google</th>\n",
       "      <td>99.293367</td>\n",
       "      <td>100.427273</td>\n",
       "      <td>700.799966</td>\n",
       "      <td>680.094950</td>\n",
       "      <td>316</td>\n",
       "      <td>172</td>\n",
       "      <td>392</td>\n",
       "      <td>220</td>\n",
       "    </tr>\n",
       "    <tr>\n",
       "      <th>instagram</th>\n",
       "      <td>69.787746</td>\n",
       "      <td>70.172288</td>\n",
       "      <td>111.770772</td>\n",
       "      <td>106.426252</td>\n",
       "      <td>548</td>\n",
       "      <td>417</td>\n",
       "      <td>1371</td>\n",
       "      <td>1097</td>\n",
       "    </tr>\n",
       "    <tr>\n",
       "      <th>tik-tok</th>\n",
       "      <td>49.920711</td>\n",
       "      <td>49.869017</td>\n",
       "      <td>91.959679</td>\n",
       "      <td>39.295513</td>\n",
       "      <td>353</td>\n",
       "      <td>1980</td>\n",
       "      <td>1463</td>\n",
       "      <td>4680</td>\n",
       "    </tr>\n",
       "    <tr>\n",
       "      <th>twitter</th>\n",
       "      <td>210.262231</td>\n",
       "      <td>209.917889</td>\n",
       "      <td>1360.037211</td>\n",
       "      <td>1271.016583</td>\n",
       "      <td>364</td>\n",
       "      <td>227</td>\n",
       "      <td>511</td>\n",
       "      <td>341</td>\n",
       "    </tr>\n",
       "  </tbody>\n",
       "</table>\n",
       "</div>"
      ],
      "text/plain": [
       "                    cost                      LTV              account_id  \\\n",
       "install_date  2021-05-16  2021-05-17   2021-05-16   2021-05-17 2021-05-16   \n",
       "media_source                                                                \n",
       "facebook      170.079498  169.291317  1117.646723  1138.380778        421   \n",
       "google         99.293367  100.427273   700.799966   680.094950        316   \n",
       "instagram      69.787746   70.172288   111.770772   106.426252        548   \n",
       "tik-tok        49.920711   49.869017    91.959679    39.295513        353   \n",
       "twitter       210.262231  209.917889  1360.037211  1271.016583        364   \n",
       "\n",
       "                        install_id             \n",
       "install_date 2021-05-17 2021-05-16 2021-05-17  \n",
       "media_source                                   \n",
       "facebook            320        478        357  \n",
       "google              172        392        220  \n",
       "instagram           417       1371       1097  \n",
       "tik-tok            1980       1463       4680  \n",
       "twitter             227        511        341  "
      ]
     },
     "execution_count": 73,
     "metadata": {},
     "output_type": "execute_result"
    }
   ],
   "source": [
    "all_groups.groupby(['install_date','media_source']).agg({'cost': 'mean','LTV': 'mean', 'account_id' : 'count', 'install_id' : 'count'})\\\n",
    ".unstack(level=0)"
   ]
  },
  {
   "cell_type": "markdown",
   "metadata": {},
   "source": [
    "Из таблицы видно, что в остальных группах таких скачков нет. \n",
    "Стоимость уставки осталась таже, LTV значимо изменился только у tik-tok.\n",
    "Также видно снижение установок и открытий по всем, кроме tik-tok"
   ]
  },
  {
   "cell_type": "markdown",
   "metadata": {},
   "source": [
    "### ВЫВОД"
   ]
  },
  {
   "cell_type": "markdown",
   "metadata": {},
   "source": [
    "В целом говоря об эффективности привлечения пользователей в продукт, можно сказать, что оно прибыльное (т.е эффективное). \n",
    "Однако некорые решения были неудачными. Лушим решением на данный момент будет ориентация на Twitter Facebook и Google,\n",
    "как самые эффективные направления. Также важно находить некий баланс менжду увеличением %открытых аккаунтов и значением LTV"
   ]
  }
 ],
 "metadata": {
  "kernelspec": {
   "display_name": "Python 3",
   "language": "python",
   "name": "python3"
  },
  "language_info": {
   "codemirror_mode": {
    "name": "ipython",
    "version": 3
   },
   "file_extension": ".py",
   "mimetype": "text/x-python",
   "name": "python",
   "nbconvert_exporter": "python",
   "pygments_lexer": "ipython3",
   "version": "3.8.5"
  }
 },
 "nbformat": 4,
 "nbformat_minor": 2
}
